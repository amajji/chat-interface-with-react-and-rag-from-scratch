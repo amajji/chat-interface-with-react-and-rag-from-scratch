{
 "cells": [
  {
   "cell_type": "code",
   "execution_count": null,
   "metadata": {},
   "outputs": [],
   "source": [
    "import requests\n"
   ]
  },
  {
   "cell_type": "code",
   "execution_count": null,
   "metadata": {},
   "outputs": [],
   "source": [
    "\n",
    "# Hugging Face Inference API URL\n",
    "API_URL = \"https://api-inference.huggingface.co/models/gpt2\"  # You can change the model name here\n",
    "API_TOKEN = \"your_hugging_face_api_token\"  # Replace with your API token\n",
    "\n",
    "headers = {\n",
    "    \"Authorization\": f\"Bearer {API_TOKEN}\"\n",
    "}\n",
    "\n",
    "# The input prompt for the model\n",
    "data = {\n",
    "    \"inputs\": \"Once upon a time, there was a little robot who\",\n",
    "}\n",
    "\n",
    "# Make the request\n",
    "response = requests.post(API_URL, headers=headers, json=data)\n",
    "\n",
    "# Print the model's output\n",
    "print(response.json())\n"
   ]
  }
 ],
 "metadata": {
  "language_info": {
   "name": "python"
  }
 },
 "nbformat": 4,
 "nbformat_minor": 2
}
